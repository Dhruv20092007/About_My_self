{
  "nbformat": 4,
  "nbformat_minor": 0,
  "metadata": {
    "colab": {
      "provenance": [],
      "authorship_tag": "ABX9TyMFye1w1G1n/HyUyCsdhAQA",
      "include_colab_link": true
    },
    "kernelspec": {
      "name": "python3",
      "display_name": "Python 3"
    },
    "language_info": {
      "name": "python"
    }
  },
  "cells": [
    {
      "cell_type": "markdown",
      "metadata": {
        "id": "view-in-github",
        "colab_type": "text"
      },
      "source": [
        "<a href=\"https://colab.research.google.com/github/Dhruv20092007/About_My_self/blob/master/Codeforcessolutions.ipynb\" target=\"_parent\"><img src=\"https://colab.research.google.com/assets/colab-badge.svg\" alt=\"Open In Colab\"/></a>"
      ]
    },
    {
      "cell_type": "code",
      "execution_count": 1,
      "metadata": {
        "colab": {
          "base_uri": "https://localhost:8080/"
        },
        "id": "QAaEIJ4TV77V",
        "outputId": "ceb983fe-ba52-4977-d194-05ab8b1c908a"
      },
      "outputs": [
        {
          "output_type": "stream",
          "name": "stdout",
          "text": [
            "1\n",
            "3 4\n",
            "5 6\n",
            "1\n"
          ]
        }
      ],
      "source": [
        "def noOfCloseDoors(m1,m2):\n",
        "\n",
        "    r1=[i for i in range(m1[0],m1[-1]+1)]\n",
        "    r2=[i for i in range(m2[0],m2[-1]+1)]\n",
        "\n",
        "    l1=len(r1)\n",
        "    l2=len(r2)\n",
        "\n",
        "    if l1>l2:\n",
        "        smalllst=r2\n",
        "        biglst=r1\n",
        "    else:\n",
        "        smalllst=r1\n",
        "        biglst=r2\n",
        "    j=0\n",
        "    for i in range(len(smalllst)):\n",
        "\n",
        "        if smalllst[i] in biglst:\n",
        "\n",
        "            j+=1\n",
        "\n",
        "    if j==0:\n",
        "\n",
        "        return 1\n",
        "\n",
        "    elif j<len(smalllst):\n",
        "\n",
        "        return j+1\n",
        "\n",
        "    elif j==len(smalllst) and smalllst==biglst:\n",
        "\n",
        "        return j-1\n",
        "\n",
        "    elif j==len(smalllst):\n",
        "\n",
        "        if biglst[0] in smalllst or biglst[-1] in smalllst:\n",
        "\n",
        "            return j\n",
        "\n",
        "        else:\n",
        "\n",
        "            return j+1\n",
        "\n",
        "    print(j)\n",
        "\n",
        "tc=int(input())\n",
        "finlst=[]\n",
        "for i in range(tc):\n",
        "    str1=input()\n",
        "    lst11=str1.split(\" \")\n",
        "    lst33=list(map(int,lst11))\n",
        "    str2=input()\n",
        "    lst22=str2.split(\" \")\n",
        "    lst44=list(map(int,lst22))\n",
        "    tempval=noOfCloseDoors(lst33,lst44)\n",
        "\n",
        "    finlst.append(tempval)\n",
        "\n",
        "for chat in finlst:\n",
        "    print(chat)"
      ]
    }
  ]
}